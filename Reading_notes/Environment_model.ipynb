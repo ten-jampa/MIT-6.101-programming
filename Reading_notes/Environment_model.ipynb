{
 "cells": [
  {
   "cell_type": "code",
   "execution_count": 5,
   "id": "83c3bfb3-4c54-4ac2-b4d3-9d45c81bd75f",
   "metadata": {},
   "outputs": [
    {
     "name": "stdout",
     "output_type": "stream",
     "text": [
      "[20, [30, 6, 5]]\n",
      "[20, [30, 6, 5]]\n",
      "[[9, 8], [30, 6, 5]]\n"
     ]
    }
   ],
   "source": [
    "x = [[9,8],[7,6,5]]\n",
    "y1 = x\n",
    "y2 = x[:]\n",
    "\n",
    "x[0] = 20\n",
    "x[1][0] = 30\n",
    "print(x)\n",
    "print(y1)\n",
    "print(y2)\n",
    "y2[0] = 40"
   ]
  },
  {
   "cell_type": "raw",
   "id": "7674d90d-9173-4d70-a748-08efbb67c60f",
   "metadata": {},
   "source": [
    "print(y2)"
   ]
  },
  {
   "cell_type": "code",
   "execution_count": 6,
   "id": "2667a474-b7a3-42d6-9b2a-42aea8eb7864",
   "metadata": {},
   "outputs": [
    {
     "ename": "SyntaxError",
     "evalue": "invalid syntax (3114489061.py, line 1)",
     "output_type": "error",
     "traceback": [
      "\u001b[0;36m  Cell \u001b[0;32mIn[6], line 1\u001b[0;36m\u001b[0m\n\u001b[0;31m    pip3 list\u001b[0m\n\u001b[0m         ^\u001b[0m\n\u001b[0;31mSyntaxError\u001b[0m\u001b[0;31m:\u001b[0m invalid syntax\n"
     ]
    }
   ],
   "source": [
    "pip3 list"
   ]
  },
  {
   "cell_type": "code",
   "execution_count": 7,
   "id": "9bf133d9-bbdf-4b82-8197-67b6540dd806",
   "metadata": {},
   "outputs": [
    {
     "name": "stdout",
     "output_type": "stream",
     "text": [
      "zsh:1: number expected\n",
      "Note: you may need to restart the kernel to use updated packages.\n"
     ]
    }
   ],
   "source": [
    "pip(list)"
   ]
  },
  {
   "cell_type": "code",
   "execution_count": null,
   "id": "59787f5b-8fdd-42bb-9586-ce7566b101a4",
   "metadata": {},
   "outputs": [],
   "source": []
  }
 ],
 "metadata": {
  "kernelspec": {
   "display_name": "Python 3.13",
   "language": "python",
   "name": "python3.13"
  },
  "language_info": {
   "codemirror_mode": {
    "name": "ipython",
    "version": 3
   },
   "file_extension": ".py",
   "mimetype": "text/x-python",
   "name": "python",
   "nbconvert_exporter": "python",
   "pygments_lexer": "ipython3",
   "version": "3.13.1"
  }
 },
 "nbformat": 4,
 "nbformat_minor": 5
}
